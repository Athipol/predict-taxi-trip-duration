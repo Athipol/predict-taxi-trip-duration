{
 "cells": [
  {
   "cell_type": "markdown",
   "metadata": {},
   "source": [
    "# A better baseline solution\n",
    "\n",
    "<p>The following tutorial illustrates a simple model for the NYC Taxi Trip Duration competition on <a href = \"https://www.kaggle.com/c/nyc-taxi-trip-duration\">Kaggle</a>. Our goal here is to create a model with minimal work to act as a *baseline*. This notebook reads the dataset, encodes the necessary columns, and trains a regressor.</p>\n",
    "\n",
    "## Step 1: Download raw data\n",
    "<p>The first step is to download the raw data from the <a href=\"https://www.kaggle.com/c/nyc-taxi-trip-duration/data\">Kaggle website</a>. For the purposes of this tutorial only two files are necessary: `train.csv` and `test.csv`: if you have not already, you should download them from and save them into the data folder. We once again use the `pandas` data analysis library to read in the data in a usable format for python.\n"
   ]
  },
  {
   "cell_type": "code",
   "execution_count": 1,
   "metadata": {},
   "outputs": [
    {
     "name": "stderr",
     "output_type": "stream",
     "text": [
      "/usr/local/Cellar/python3/3.6.2/Frameworks/Python.framework/Versions/3.6/lib/python3.6/site-packages/sklearn/cross_validation.py:41: DeprecationWarning: This module was deprecated in version 0.18 in favor of the model_selection module into which all the refactored classes and functions are moved. Also note that the interface of the new CV iterators are different from that of this module. This module will be removed in 0.20.\n",
      "  \"This module will be removed in 0.20.\", DeprecationWarning)\n"
     ]
    }
   ],
   "source": [
    "import pandas as pd\n",
    "import numpy as np\n",
    "import taxi_utils"
   ]
  },
  {
   "cell_type": "code",
   "execution_count": 2,
   "metadata": {},
   "outputs": [
    {
     "data": {
      "text/html": [
       "<div>\n",
       "<style>\n",
       "    .dataframe thead tr:only-child th {\n",
       "        text-align: right;\n",
       "    }\n",
       "\n",
       "    .dataframe thead th {\n",
       "        text-align: left;\n",
       "    }\n",
       "\n",
       "    .dataframe tbody tr th {\n",
       "        vertical-align: top;\n",
       "    }\n",
       "</style>\n",
       "<table border=\"1\" class=\"dataframe\">\n",
       "  <thead>\n",
       "    <tr style=\"text-align: right;\">\n",
       "      <th></th>\n",
       "      <th>id</th>\n",
       "      <th>vendor_id</th>\n",
       "      <th>pickup_datetime</th>\n",
       "      <th>passenger_count</th>\n",
       "      <th>pickup_longitude</th>\n",
       "      <th>pickup_latitude</th>\n",
       "      <th>dropoff_longitude</th>\n",
       "      <th>dropoff_latitude</th>\n",
       "      <th>store_and_fwd_flag</th>\n",
       "      <th>trip_duration</th>\n",
       "    </tr>\n",
       "  </thead>\n",
       "  <tbody>\n",
       "    <tr>\n",
       "      <th>0</th>\n",
       "      <td>id2875421</td>\n",
       "      <td>2</td>\n",
       "      <td>2016-03-14 17:24:55</td>\n",
       "      <td>1</td>\n",
       "      <td>-73.982155</td>\n",
       "      <td>40.767937</td>\n",
       "      <td>-73.964630</td>\n",
       "      <td>40.765602</td>\n",
       "      <td>False</td>\n",
       "      <td>455</td>\n",
       "    </tr>\n",
       "    <tr>\n",
       "      <th>1</th>\n",
       "      <td>id2377394</td>\n",
       "      <td>1</td>\n",
       "      <td>2016-06-12 00:43:35</td>\n",
       "      <td>1</td>\n",
       "      <td>-73.980415</td>\n",
       "      <td>40.738564</td>\n",
       "      <td>-73.999481</td>\n",
       "      <td>40.731152</td>\n",
       "      <td>False</td>\n",
       "      <td>663</td>\n",
       "    </tr>\n",
       "    <tr>\n",
       "      <th>2</th>\n",
       "      <td>id3858529</td>\n",
       "      <td>2</td>\n",
       "      <td>2016-01-19 11:35:24</td>\n",
       "      <td>1</td>\n",
       "      <td>-73.979027</td>\n",
       "      <td>40.763939</td>\n",
       "      <td>-74.005333</td>\n",
       "      <td>40.710087</td>\n",
       "      <td>False</td>\n",
       "      <td>2124</td>\n",
       "    </tr>\n",
       "    <tr>\n",
       "      <th>3</th>\n",
       "      <td>id3504673</td>\n",
       "      <td>2</td>\n",
       "      <td>2016-04-06 19:32:31</td>\n",
       "      <td>1</td>\n",
       "      <td>-74.010040</td>\n",
       "      <td>40.719971</td>\n",
       "      <td>-74.012268</td>\n",
       "      <td>40.706718</td>\n",
       "      <td>False</td>\n",
       "      <td>429</td>\n",
       "    </tr>\n",
       "    <tr>\n",
       "      <th>4</th>\n",
       "      <td>id2181028</td>\n",
       "      <td>2</td>\n",
       "      <td>2016-03-26 13:30:55</td>\n",
       "      <td>1</td>\n",
       "      <td>-73.973053</td>\n",
       "      <td>40.793209</td>\n",
       "      <td>-73.972923</td>\n",
       "      <td>40.782520</td>\n",
       "      <td>False</td>\n",
       "      <td>435</td>\n",
       "    </tr>\n",
       "  </tbody>\n",
       "</table>\n",
       "</div>"
      ],
      "text/plain": [
       "          id  vendor_id     pickup_datetime  passenger_count  \\\n",
       "0  id2875421          2 2016-03-14 17:24:55                1   \n",
       "1  id2377394          1 2016-06-12 00:43:35                1   \n",
       "2  id3858529          2 2016-01-19 11:35:24                1   \n",
       "3  id3504673          2 2016-04-06 19:32:31                1   \n",
       "4  id2181028          2 2016-03-26 13:30:55                1   \n",
       "\n",
       "   pickup_longitude  pickup_latitude  dropoff_longitude  dropoff_latitude  \\\n",
       "0        -73.982155        40.767937         -73.964630         40.765602   \n",
       "1        -73.980415        40.738564         -73.999481         40.731152   \n",
       "2        -73.979027        40.763939         -74.005333         40.710087   \n",
       "3        -74.010040        40.719971         -74.012268         40.706718   \n",
       "4        -73.973053        40.793209         -73.972923         40.782520   \n",
       "\n",
       "   store_and_fwd_flag  trip_duration  \n",
       "0               False            455  \n",
       "1               False            663  \n",
       "2               False           2124  \n",
       "3               False            429  \n",
       "4               False            435  "
      ]
     },
     "execution_count": 2,
     "metadata": {},
     "output_type": "execute_result"
    }
   ],
   "source": [
    "TRAIN_DIR = \"data/train.csv\"\n",
    "TEST_DIR = \"data/test.csv\"\n",
    "\n",
    "data_train, data_test = taxi_utils.read_data(TRAIN_DIR, TEST_DIR)\n",
    "\n",
    "data_train.head(5)"
   ]
  },
  {
   "cell_type": "markdown",
   "metadata": {},
   "source": [
    "<h2>Step 2: Prepare the Data </h2>"
   ]
  },
  {
   "cell_type": "code",
   "execution_count": 3,
   "metadata": {},
   "outputs": [],
   "source": [
    "X_train = data_train.copy()\n",
    "X_test = data_test.copy()"
   ]
  },
  {
   "cell_type": "markdown",
   "metadata": {},
   "source": [
    "<p>Next, to use machine learning algorithms, we need to change the **pickup_datetime** column.</p>"
   ]
  },
  {
   "cell_type": "code",
   "execution_count": 4,
   "metadata": {},
   "outputs": [],
   "source": [
    "X_test.loc[:, 'pickup_year'] = X_test['pickup_datetime'].dt.year\n",
    "X_train.loc[:, 'pickup_year'] = X_train['pickup_datetime'].dt.year\n",
    "\n",
    "X_test.loc[:, 'pickup_month'] = X_test['pickup_datetime'].dt.month\n",
    "X_train.loc[:, 'pickup_month'] = X_train['pickup_datetime'].dt.month\n",
    "\n",
    "X_test.loc[:, 'pickup_day'] = X_test['pickup_datetime'].dt.day\n",
    "X_train.loc[:, 'pickup_day'] = X_train['pickup_datetime'].dt.day\n",
    "\n",
    "X_test.loc[:, 'pickup_hour'] = X_test['pickup_datetime'].dt.hour\n",
    "X_train.loc[:, 'pickup_hour'] = X_train['pickup_datetime'].dt.hour\n",
    "\n",
    "X_test.loc[:, 'pickup_minute'] = X_test['pickup_datetime'].dt.minute\n",
    "X_train.loc[:, 'pickup_minute'] = X_train['pickup_datetime'].dt.minute\n",
    "\n",
    "X_test.loc[:, 'pickup_second'] = X_test['pickup_datetime'].dt.second\n",
    "X_train.loc[:, 'pickup_second'] = X_train['pickup_datetime'].dt.second"
   ]
  },
  {
   "cell_type": "code",
   "execution_count": 5,
   "metadata": {},
   "outputs": [],
   "source": [
    "X_test = X_test.drop(['pickup_datetime'], axis=1)\n",
    "X_train = X_train.drop(['pickup_datetime'], axis=1)"
   ]
  },
  {
   "cell_type": "code",
   "execution_count": 6,
   "metadata": {},
   "outputs": [
    {
     "data": {
      "text/html": [
       "<div>\n",
       "<style>\n",
       "    .dataframe thead tr:only-child th {\n",
       "        text-align: right;\n",
       "    }\n",
       "\n",
       "    .dataframe thead th {\n",
       "        text-align: left;\n",
       "    }\n",
       "\n",
       "    .dataframe tbody tr th {\n",
       "        vertical-align: top;\n",
       "    }\n",
       "</style>\n",
       "<table border=\"1\" class=\"dataframe\">\n",
       "  <thead>\n",
       "    <tr style=\"text-align: right;\">\n",
       "      <th></th>\n",
       "      <th>id</th>\n",
       "      <th>vendor_id</th>\n",
       "      <th>passenger_count</th>\n",
       "      <th>pickup_longitude</th>\n",
       "      <th>pickup_latitude</th>\n",
       "      <th>dropoff_longitude</th>\n",
       "      <th>dropoff_latitude</th>\n",
       "      <th>store_and_fwd_flag</th>\n",
       "      <th>trip_duration</th>\n",
       "      <th>pickup_year</th>\n",
       "      <th>pickup_month</th>\n",
       "      <th>pickup_day</th>\n",
       "      <th>pickup_hour</th>\n",
       "      <th>pickup_minute</th>\n",
       "      <th>pickup_second</th>\n",
       "    </tr>\n",
       "  </thead>\n",
       "  <tbody>\n",
       "    <tr>\n",
       "      <th>0</th>\n",
       "      <td>id2875421</td>\n",
       "      <td>2</td>\n",
       "      <td>1</td>\n",
       "      <td>-73.982155</td>\n",
       "      <td>40.767937</td>\n",
       "      <td>-73.964630</td>\n",
       "      <td>40.765602</td>\n",
       "      <td>False</td>\n",
       "      <td>455</td>\n",
       "      <td>2016</td>\n",
       "      <td>3</td>\n",
       "      <td>14</td>\n",
       "      <td>17</td>\n",
       "      <td>24</td>\n",
       "      <td>55</td>\n",
       "    </tr>\n",
       "    <tr>\n",
       "      <th>1</th>\n",
       "      <td>id2377394</td>\n",
       "      <td>1</td>\n",
       "      <td>1</td>\n",
       "      <td>-73.980415</td>\n",
       "      <td>40.738564</td>\n",
       "      <td>-73.999481</td>\n",
       "      <td>40.731152</td>\n",
       "      <td>False</td>\n",
       "      <td>663</td>\n",
       "      <td>2016</td>\n",
       "      <td>6</td>\n",
       "      <td>12</td>\n",
       "      <td>0</td>\n",
       "      <td>43</td>\n",
       "      <td>35</td>\n",
       "    </tr>\n",
       "    <tr>\n",
       "      <th>2</th>\n",
       "      <td>id3858529</td>\n",
       "      <td>2</td>\n",
       "      <td>1</td>\n",
       "      <td>-73.979027</td>\n",
       "      <td>40.763939</td>\n",
       "      <td>-74.005333</td>\n",
       "      <td>40.710087</td>\n",
       "      <td>False</td>\n",
       "      <td>2124</td>\n",
       "      <td>2016</td>\n",
       "      <td>1</td>\n",
       "      <td>19</td>\n",
       "      <td>11</td>\n",
       "      <td>35</td>\n",
       "      <td>24</td>\n",
       "    </tr>\n",
       "    <tr>\n",
       "      <th>3</th>\n",
       "      <td>id3504673</td>\n",
       "      <td>2</td>\n",
       "      <td>1</td>\n",
       "      <td>-74.010040</td>\n",
       "      <td>40.719971</td>\n",
       "      <td>-74.012268</td>\n",
       "      <td>40.706718</td>\n",
       "      <td>False</td>\n",
       "      <td>429</td>\n",
       "      <td>2016</td>\n",
       "      <td>4</td>\n",
       "      <td>6</td>\n",
       "      <td>19</td>\n",
       "      <td>32</td>\n",
       "      <td>31</td>\n",
       "    </tr>\n",
       "    <tr>\n",
       "      <th>4</th>\n",
       "      <td>id2181028</td>\n",
       "      <td>2</td>\n",
       "      <td>1</td>\n",
       "      <td>-73.973053</td>\n",
       "      <td>40.793209</td>\n",
       "      <td>-73.972923</td>\n",
       "      <td>40.782520</td>\n",
       "      <td>False</td>\n",
       "      <td>435</td>\n",
       "      <td>2016</td>\n",
       "      <td>3</td>\n",
       "      <td>26</td>\n",
       "      <td>13</td>\n",
       "      <td>30</td>\n",
       "      <td>55</td>\n",
       "    </tr>\n",
       "  </tbody>\n",
       "</table>\n",
       "</div>"
      ],
      "text/plain": [
       "          id  vendor_id  passenger_count  pickup_longitude  pickup_latitude  \\\n",
       "0  id2875421          2                1        -73.982155        40.767937   \n",
       "1  id2377394          1                1        -73.980415        40.738564   \n",
       "2  id3858529          2                1        -73.979027        40.763939   \n",
       "3  id3504673          2                1        -74.010040        40.719971   \n",
       "4  id2181028          2                1        -73.973053        40.793209   \n",
       "\n",
       "   dropoff_longitude  dropoff_latitude  store_and_fwd_flag  trip_duration  \\\n",
       "0         -73.964630         40.765602               False            455   \n",
       "1         -73.999481         40.731152               False            663   \n",
       "2         -74.005333         40.710087               False           2124   \n",
       "3         -74.012268         40.706718               False            429   \n",
       "4         -73.972923         40.782520               False            435   \n",
       "\n",
       "   pickup_year  pickup_month  pickup_day  pickup_hour  pickup_minute  \\\n",
       "0         2016             3          14           17             24   \n",
       "1         2016             6          12            0             43   \n",
       "2         2016             1          19           11             35   \n",
       "3         2016             4           6           19             32   \n",
       "4         2016             3          26           13             30   \n",
       "\n",
       "   pickup_second  \n",
       "0             55  \n",
       "1             35  \n",
       "2             24  \n",
       "3             31  \n",
       "4             55  "
      ]
     },
     "execution_count": 6,
     "metadata": {},
     "output_type": "execute_result"
    }
   ],
   "source": [
    "X_train.head(5)"
   ]
  },
  {
   "cell_type": "markdown",
   "metadata": {},
   "source": [
    "<h2>Step 3: Build the Model </h2>"
   ]
  },
  {
   "cell_type": "markdown",
   "metadata": {},
   "source": [
    "<p>We can make sure the `id` is not used to train the model by setting it as the index for both feature matrices.</p>"
   ]
  },
  {
   "cell_type": "code",
   "execution_count": 7,
   "metadata": {},
   "outputs": [],
   "source": [
    "X_train = X_train.set_index(['id'])\n",
    "X_test = X_test.set_index(['id'])"
   ]
  },
  {
   "cell_type": "markdown",
   "metadata": {},
   "source": [
    "Since the data is not linearly distributed, taking the `log` of the trip duration will improve the results of the regression."
   ]
  },
  {
   "cell_type": "code",
   "execution_count": 8,
   "metadata": {},
   "outputs": [],
   "source": [
    "labels = np.log(X_train['trip_duration'].values + 1)\n",
    "X_train = X_train.drop(['trip_duration'], axis=1)"
   ]
  },
  {
   "cell_type": "markdown",
   "metadata": {},
   "source": [
    "From there, we run `xgboost` and see how well our model fits our test data."
   ]
  },
  {
   "cell_type": "code",
   "execution_count": 9,
   "metadata": {},
   "outputs": [
    {
     "name": "stdout",
     "output_type": "stream",
     "text": [
      "[0]\ttrain-rmse:5.00222\tvalid-rmse:5.00165\n",
      "Multiple eval metrics have been passed: 'valid-rmse' will be used for early stopping.\n",
      "\n",
      "Will train until valid-rmse hasn't improved in 60 rounds.\n",
      "[10]\ttrain-rmse:1.0345\tvalid-rmse:1.03529\n",
      "[20]\ttrain-rmse:0.588563\tvalid-rmse:0.590879\n",
      "[30]\ttrain-rmse:0.521021\tvalid-rmse:0.524257\n",
      "[40]\ttrain-rmse:0.489848\tvalid-rmse:0.494019\n",
      "[50]\ttrain-rmse:0.475273\tvalid-rmse:0.480304\n",
      "[60]\ttrain-rmse:0.470008\tvalid-rmse:0.475673\n",
      "[70]\ttrain-rmse:0.459662\tvalid-rmse:0.465998\n",
      "[80]\ttrain-rmse:0.454078\tvalid-rmse:0.461092\n",
      "[90]\ttrain-rmse:0.45028\tvalid-rmse:0.457809\n",
      "[100]\ttrain-rmse:0.443367\tvalid-rmse:0.45131\n",
      "[110]\ttrain-rmse:0.435637\tvalid-rmse:0.444054\n",
      "[120]\ttrain-rmse:0.432269\tvalid-rmse:0.441041\n",
      "[130]\ttrain-rmse:0.429166\tvalid-rmse:0.438351\n",
      "[140]\ttrain-rmse:0.427592\tvalid-rmse:0.437218\n",
      "[150]\ttrain-rmse:0.424559\tvalid-rmse:0.434707\n",
      "[160]\ttrain-rmse:0.421582\tvalid-rmse:0.432094\n",
      "[170]\ttrain-rmse:0.419642\tvalid-rmse:0.430527\n",
      "[180]\ttrain-rmse:0.413601\tvalid-rmse:0.425028\n",
      "[190]\ttrain-rmse:0.412747\tvalid-rmse:0.424522\n",
      "[200]\ttrain-rmse:0.407089\tvalid-rmse:0.419405\n",
      "[210]\ttrain-rmse:0.405644\tvalid-rmse:0.418369\n",
      "[220]\ttrain-rmse:0.404136\tvalid-rmse:0.41707\n",
      "Modeling RMSLE 0.41591\n"
     ]
    }
   ],
   "source": [
    "model = taxi_utils.train_xgb(X_train, labels)"
   ]
  },
  {
   "cell_type": "markdown",
   "metadata": {},
   "source": [
    "<h2>Step 4: Make a Submission</h2>\n",
    "Some utility functions are stored in `taxi_utils.py`. In that file there is a `predict_xgb` which tests data against our model and `feature_importances` which we will use below."
   ]
  },
  {
   "cell_type": "code",
   "execution_count": 10,
   "metadata": {},
   "outputs": [
    {
     "data": {
      "text/html": [
       "<div>\n",
       "<style>\n",
       "    .dataframe thead tr:only-child th {\n",
       "        text-align: right;\n",
       "    }\n",
       "\n",
       "    .dataframe thead th {\n",
       "        text-align: left;\n",
       "    }\n",
       "\n",
       "    .dataframe tbody tr th {\n",
       "        vertical-align: top;\n",
       "    }\n",
       "</style>\n",
       "<table border=\"1\" class=\"dataframe\">\n",
       "  <thead>\n",
       "    <tr style=\"text-align: right;\">\n",
       "      <th></th>\n",
       "      <th>trip_duration</th>\n",
       "    </tr>\n",
       "    <tr>\n",
       "      <th>id</th>\n",
       "      <th></th>\n",
       "    </tr>\n",
       "  </thead>\n",
       "  <tbody>\n",
       "    <tr>\n",
       "      <th>id3004672</th>\n",
       "      <td>732.184448</td>\n",
       "    </tr>\n",
       "    <tr>\n",
       "      <th>id3505355</th>\n",
       "      <td>464.602142</td>\n",
       "    </tr>\n",
       "    <tr>\n",
       "      <th>id1217141</th>\n",
       "      <td>422.631470</td>\n",
       "    </tr>\n",
       "    <tr>\n",
       "      <th>id2150126</th>\n",
       "      <td>1113.882446</td>\n",
       "    </tr>\n",
       "    <tr>\n",
       "      <th>id1598245</th>\n",
       "      <td>290.918182</td>\n",
       "    </tr>\n",
       "  </tbody>\n",
       "</table>\n",
       "</div>"
      ],
      "text/plain": [
       "           trip_duration\n",
       "id                      \n",
       "id3004672     732.184448\n",
       "id3505355     464.602142\n",
       "id1217141     422.631470\n",
       "id2150126    1113.882446\n",
       "id1598245     290.918182"
      ]
     },
     "execution_count": 10,
     "metadata": {},
     "output_type": "execute_result"
    }
   ],
   "source": [
    "submission = taxi_utils.predict_xgb(model, X_test)\n",
    "submission.head(5)"
   ]
  },
  {
   "cell_type": "code",
   "execution_count": 11,
   "metadata": {},
   "outputs": [
    {
     "data": {
      "text/plain": [
       "(625134, 1)"
      ]
     },
     "execution_count": 11,
     "metadata": {},
     "output_type": "execute_result"
    }
   ],
   "source": [
    "submission.shape"
   ]
  },
  {
   "cell_type": "code",
   "execution_count": 12,
   "metadata": {},
   "outputs": [
    {
     "data": {
      "text/plain": [
       "(625134, 14)"
      ]
     },
     "execution_count": 12,
     "metadata": {},
     "output_type": "execute_result"
    }
   ],
   "source": [
    "X_test.shape"
   ]
  },
  {
   "cell_type": "code",
   "execution_count": 13,
   "metadata": {},
   "outputs": [],
   "source": [
    "submission.to_csv('trip_duration_baseline.csv', index=True, index_label='id')"
   ]
  },
  {
   "cell_type": "markdown",
   "metadata": {},
   "source": [
    "<dt>This solution:</dt>\n",
    "<dd>&nbsp; &nbsp; Received a score of 0.46589 on the Kaggle competition.</dd>\n",
    "<dd>&nbsp; &nbsp; Placed 738 out of 1257.</dd>\n",
    "<dd>&nbsp; &nbsp; Beat 41% of competitors on the Kaggle competition.</dd>\n",
    "<dd>&nbsp; &nbsp; Had a modeling RMSLE of 0.41591</dd>\n",
    "\n",
    "December 27, 2017.\n",
    "\n",
    "<h2>Additional Analysis</h2>\n",
    "<p>Let's look at how important each feature was for the model.</p>"
   ]
  },
  {
   "cell_type": "code",
   "execution_count": 14,
   "metadata": {},
   "outputs": [
    {
     "data": {
      "text/html": [
       "<div>\n",
       "<style>\n",
       "    .dataframe thead tr:only-child th {\n",
       "        text-align: right;\n",
       "    }\n",
       "\n",
       "    .dataframe thead th {\n",
       "        text-align: left;\n",
       "    }\n",
       "\n",
       "    .dataframe tbody tr th {\n",
       "        vertical-align: top;\n",
       "    }\n",
       "</style>\n",
       "<table border=\"1\" class=\"dataframe\">\n",
       "  <thead>\n",
       "    <tr style=\"text-align: right;\">\n",
       "      <th></th>\n",
       "      <th>feature_name</th>\n",
       "      <th>importance</th>\n",
       "    </tr>\n",
       "  </thead>\n",
       "  <tbody>\n",
       "    <tr>\n",
       "      <th>3</th>\n",
       "      <td>dropoff_longitude</td>\n",
       "      <td>8928.0</td>\n",
       "    </tr>\n",
       "    <tr>\n",
       "      <th>1</th>\n",
       "      <td>dropoff_latitude</td>\n",
       "      <td>8445.0</td>\n",
       "    </tr>\n",
       "    <tr>\n",
       "      <th>2</th>\n",
       "      <td>pickup_latitude</td>\n",
       "      <td>8203.0</td>\n",
       "    </tr>\n",
       "    <tr>\n",
       "      <th>0</th>\n",
       "      <td>pickup_longitude</td>\n",
       "      <td>8142.0</td>\n",
       "    </tr>\n",
       "    <tr>\n",
       "      <th>5</th>\n",
       "      <td>pickup_hour</td>\n",
       "      <td>3322.0</td>\n",
       "    </tr>\n",
       "    <tr>\n",
       "      <th>6</th>\n",
       "      <td>pickup_day</td>\n",
       "      <td>3284.0</td>\n",
       "    </tr>\n",
       "    <tr>\n",
       "      <th>7</th>\n",
       "      <td>pickup_minute</td>\n",
       "      <td>2827.0</td>\n",
       "    </tr>\n",
       "    <tr>\n",
       "      <th>11</th>\n",
       "      <td>pickup_second</td>\n",
       "      <td>2704.0</td>\n",
       "    </tr>\n",
       "    <tr>\n",
       "      <th>8</th>\n",
       "      <td>pickup_month</td>\n",
       "      <td>1679.0</td>\n",
       "    </tr>\n",
       "    <tr>\n",
       "      <th>4</th>\n",
       "      <td>passenger_count</td>\n",
       "      <td>863.0</td>\n",
       "    </tr>\n",
       "    <tr>\n",
       "      <th>9</th>\n",
       "      <td>vendor_id</td>\n",
       "      <td>481.0</td>\n",
       "    </tr>\n",
       "    <tr>\n",
       "      <th>10</th>\n",
       "      <td>store_and_fwd_flag</td>\n",
       "      <td>86.0</td>\n",
       "    </tr>\n",
       "    <tr>\n",
       "      <th>12</th>\n",
       "      <td>pickup_year</td>\n",
       "      <td>0.0</td>\n",
       "    </tr>\n",
       "  </tbody>\n",
       "</table>\n",
       "</div>"
      ],
      "text/plain": [
       "          feature_name  importance\n",
       "3    dropoff_longitude      8928.0\n",
       "1     dropoff_latitude      8445.0\n",
       "2      pickup_latitude      8203.0\n",
       "0     pickup_longitude      8142.0\n",
       "5          pickup_hour      3322.0\n",
       "6           pickup_day      3284.0\n",
       "7        pickup_minute      2827.0\n",
       "11       pickup_second      2704.0\n",
       "8         pickup_month      1679.0\n",
       "4      passenger_count       863.0\n",
       "9            vendor_id       481.0\n",
       "10  store_and_fwd_flag        86.0\n",
       "12         pickup_year         0.0"
      ]
     },
     "execution_count": 14,
     "metadata": {},
     "output_type": "execute_result"
    }
   ],
   "source": [
    "feature_names = X_train.columns.values\n",
    "ft_importances = taxi_utils.feature_importances(model, feature_names)\n",
    "ft_importances"
   ]
  }
 ],
 "metadata": {
  "kernelspec": {
   "display_name": "Python 3",
   "language": "python",
   "name": "python3"
  },
  "language_info": {
   "codemirror_mode": {
    "name": "ipython",
    "version": 3
   },
   "file_extension": ".py",
   "mimetype": "text/x-python",
   "name": "python",
   "nbconvert_exporter": "python",
   "pygments_lexer": "ipython3",
   "version": "3.6.2"
  }
 },
 "nbformat": 4,
 "nbformat_minor": 2
}
